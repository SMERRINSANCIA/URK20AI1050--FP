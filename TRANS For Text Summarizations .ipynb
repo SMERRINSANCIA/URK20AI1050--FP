{
 "cells": [
  {
   "cell_type": "code",
   "execution_count": 4,
   "id": "95665677",
   "metadata": {},
   "outputs": [],
   "source": [
    "import numpy as np\n",
    "import pandas as pd \n",
    "import re\n",
    "from bs4 import BeautifulSoup\n",
    "from keras.preprocessing.text import Tokenizer \n",
    "from keras.preprocessing.sequence import pad_sequences\n",
    "from nltk.corpus import stopwords\n",
    "from tensorflow.keras.layers import Input, LSTM, Embedding, Dense, Concatenate, TimeDistributed\n",
    "from tensorflow.keras.models import Model\n",
    "from tensorflow.keras.callbacks import EarlyStopping, ModelCheckpoint\n",
    "import warnings\n",
    "#from attention import AttentionLayer\n",
    "pd.set_option(\"display.max_colwidth\", 200)\n",
    "warnings.filterwarnings(\"ignore\")"
   ]
  },
  {
   "cell_type": "code",
   "execution_count": 5,
   "id": "d2f88dc1",
   "metadata": {},
   "outputs": [],
   "source": [
    "data=pd.read_csv(\"CNN DAILYMAIL TRAIN.csv\")"
   ]
  },
  {
   "cell_type": "code",
   "execution_count": 6,
   "id": "61ba5846",
   "metadata": {},
   "outputs": [
    {
     "data": {
      "text/html": [
       "<div>\n",
       "<style scoped>\n",
       "    .dataframe tbody tr th:only-of-type {\n",
       "        vertical-align: middle;\n",
       "    }\n",
       "\n",
       "    .dataframe tbody tr th {\n",
       "        vertical-align: top;\n",
       "    }\n",
       "\n",
       "    .dataframe thead th {\n",
       "        text-align: right;\n",
       "    }\n",
       "</style>\n",
       "<table border=\"1\" class=\"dataframe\">\n",
       "  <thead>\n",
       "    <tr style=\"text-align: right;\">\n",
       "      <th></th>\n",
       "      <th>id</th>\n",
       "      <th>article</th>\n",
       "      <th>highlights</th>\n",
       "    </tr>\n",
       "  </thead>\n",
       "  <tbody>\n",
       "    <tr>\n",
       "      <th>0</th>\n",
       "      <td>92c514c913c0bdfe25341af9fd72b29db544099b</td>\n",
       "      <td>Ever noticed how plane seats appear to be getting smaller and smaller? With increasing numbers of people taking to the skies, some experts are questioning if having such packed out planes is putti...</td>\n",
       "      <td>Experts question if  packed out planes are putting passengers at risk .\\nU.S consumer advisory group says minimum space must be stipulated .\\nSafety tests conducted on planes with more leg room th...</td>\n",
       "    </tr>\n",
       "    <tr>\n",
       "      <th>1</th>\n",
       "      <td>2003841c7dc0e7c5b1a248f9cd536d727f27a45a</td>\n",
       "      <td>A drunk teenage boy had to be rescued by security after jumping into a lions' enclosure at a zoo in western India. Rahul Kumar, 17, clambered over the enclosure fence at the Kamla Nehru Zoological...</td>\n",
       "      <td>Drunk teenage boy climbed into lion enclosure at zoo in west India .\\nRahul Kumar, 17, ran towards animals shouting 'Today I kill a lion!'\\nFortunately he fell into a moat before reaching lions an...</td>\n",
       "    </tr>\n",
       "    <tr>\n",
       "      <th>2</th>\n",
       "      <td>91b7d2311527f5c2b63a65ca98d21d9c92485149</td>\n",
       "      <td>Dougie Freedman is on the verge of agreeing a new two-year deal to remain at Nottingham Forest. Freedman has stabilised Forest since he replaced cult hero Stuart Pearce and the club's owners are p...</td>\n",
       "      <td>Nottingham Forest are close to extending Dougie Freedman's contract .\\nThe Forest boss took over from former manager Stuart Pearce in February .\\nFreedman has since lead the club to ninth in the C...</td>\n",
       "    </tr>\n",
       "    <tr>\n",
       "      <th>3</th>\n",
       "      <td>caabf9cbdf96eb1410295a673e953d304391bfbb</td>\n",
       "      <td>Liverpool target Neto is also wanted by PSG and clubs in Spain as Brendan Rodgers faces stiff competition to land the Fiorentina goalkeeper, according to the Brazilian's agent Stefano Castagna. Th...</td>\n",
       "      <td>Fiorentina goalkeeper Neto has been linked with Liverpool and Arsenal .\\nNeto joined Firoentina from Brazilian outfit Atletico Paranaense in 2011 .\\nHe is also wanted by PSG and Spanish clubs, acc...</td>\n",
       "    </tr>\n",
       "    <tr>\n",
       "      <th>4</th>\n",
       "      <td>3da746a7d9afcaa659088c8366ef6347fe6b53ea</td>\n",
       "      <td>Bruce Jenner will break his silence in a two-hour interview with Diane Sawyer later this month. The former Olympian and reality TV star, 65, will speak in a 'far-ranging' interview with Sawyer for...</td>\n",
       "      <td>Tell-all interview with the reality TV star, 69, will air on Friday April 24 .\\nIt comes amid continuing speculation about his transition to a woman and following his involvement in a deadly car c...</td>\n",
       "    </tr>\n",
       "  </tbody>\n",
       "</table>\n",
       "</div>"
      ],
      "text/plain": [
       "                                         id  \\\n",
       "0  92c514c913c0bdfe25341af9fd72b29db544099b   \n",
       "1  2003841c7dc0e7c5b1a248f9cd536d727f27a45a   \n",
       "2  91b7d2311527f5c2b63a65ca98d21d9c92485149   \n",
       "3  caabf9cbdf96eb1410295a673e953d304391bfbb   \n",
       "4  3da746a7d9afcaa659088c8366ef6347fe6b53ea   \n",
       "\n",
       "                                                                                                                                                                                                   article  \\\n",
       "0  Ever noticed how plane seats appear to be getting smaller and smaller? With increasing numbers of people taking to the skies, some experts are questioning if having such packed out planes is putti...   \n",
       "1  A drunk teenage boy had to be rescued by security after jumping into a lions' enclosure at a zoo in western India. Rahul Kumar, 17, clambered over the enclosure fence at the Kamla Nehru Zoological...   \n",
       "2  Dougie Freedman is on the verge of agreeing a new two-year deal to remain at Nottingham Forest. Freedman has stabilised Forest since he replaced cult hero Stuart Pearce and the club's owners are p...   \n",
       "3  Liverpool target Neto is also wanted by PSG and clubs in Spain as Brendan Rodgers faces stiff competition to land the Fiorentina goalkeeper, according to the Brazilian's agent Stefano Castagna. Th...   \n",
       "4  Bruce Jenner will break his silence in a two-hour interview with Diane Sawyer later this month. The former Olympian and reality TV star, 65, will speak in a 'far-ranging' interview with Sawyer for...   \n",
       "\n",
       "                                                                                                                                                                                                highlights  \n",
       "0  Experts question if  packed out planes are putting passengers at risk .\\nU.S consumer advisory group says minimum space must be stipulated .\\nSafety tests conducted on planes with more leg room th...  \n",
       "1  Drunk teenage boy climbed into lion enclosure at zoo in west India .\\nRahul Kumar, 17, ran towards animals shouting 'Today I kill a lion!'\\nFortunately he fell into a moat before reaching lions an...  \n",
       "2  Nottingham Forest are close to extending Dougie Freedman's contract .\\nThe Forest boss took over from former manager Stuart Pearce in February .\\nFreedman has since lead the club to ninth in the C...  \n",
       "3  Fiorentina goalkeeper Neto has been linked with Liverpool and Arsenal .\\nNeto joined Firoentina from Brazilian outfit Atletico Paranaense in 2011 .\\nHe is also wanted by PSG and Spanish clubs, acc...  \n",
       "4  Tell-all interview with the reality TV star, 69, will air on Friday April 24 .\\nIt comes amid continuing speculation about his transition to a woman and following his involvement in a deadly car c...  "
      ]
     },
     "execution_count": 6,
     "metadata": {},
     "output_type": "execute_result"
    }
   ],
   "source": [
    "data.head()"
   ]
  },
  {
   "cell_type": "code",
   "execution_count": 7,
   "id": "b92451ba",
   "metadata": {},
   "outputs": [
    {
     "name": "stdout",
     "output_type": "stream",
     "text": [
      "<class 'pandas.core.frame.DataFrame'>\n",
      "RangeIndex: 11490 entries, 0 to 11489\n",
      "Data columns (total 3 columns):\n",
      " #   Column      Non-Null Count  Dtype \n",
      "---  ------      --------------  ----- \n",
      " 0   id          11490 non-null  object\n",
      " 1   article     11490 non-null  object\n",
      " 2   highlights  11490 non-null  object\n",
      "dtypes: object(3)\n",
      "memory usage: 269.4+ KB\n"
     ]
    }
   ],
   "source": [
    "data.info()"
   ]
  },
  {
   "cell_type": "code",
   "execution_count": 8,
   "id": "b1851b5d",
   "metadata": {},
   "outputs": [],
   "source": [
    "contraction_mapping = {\"ain't\": \"is not\", \"aren't\": \"are not\",\"can't\": \"cannot\", \"'cause\": \"because\", \"could've\": \"could have\", \"couldn't\": \"could not\",\n",
    "                           \"didn't\": \"did not\",  \"doesn't\": \"does not\", \"don't\": \"do not\", \"hadn't\": \"had not\", \"hasn't\": \"has not\", \"haven't\": \"have not\",\n",
    "                           \"he'd\": \"he would\",\"he'll\": \"he will\", \"he's\": \"he is\", \"how'd\": \"how did\", \"how'd'y\": \"how do you\", \"how'll\": \"how will\", \"how's\": \"how is\",\n",
    "                           \"I'd\": \"I would\", \"I'd've\": \"I would have\", \"I'll\": \"I will\", \"I'll've\": \"I will have\",\"I'm\": \"I am\", \"I've\": \"I have\", \"i'd\": \"i would\",\n",
    "                           \"i'd've\": \"i would have\", \"i'll\": \"i will\",  \"i'll've\": \"i will have\",\"i'm\": \"i am\", \"i've\": \"i have\", \"isn't\": \"is not\", \"it'd\": \"it would\",\n",
    "                           \"it'd've\": \"it would have\", \"it'll\": \"it will\", \"it'll've\": \"it will have\",\"it's\": \"it is\", \"let's\": \"let us\", \"ma'am\": \"madam\",\n",
    "                           \"mayn't\": \"may not\", \"might've\": \"might have\",\"mightn't\": \"might not\",\"mightn't've\": \"might not have\", \"must've\": \"must have\",\n",
    "                           \"mustn't\": \"must not\", \"mustn't've\": \"must not have\", \"needn't\": \"need not\", \"needn't've\": \"need not have\",\"o'clock\": \"of the clock\",\n",
    "                           \"oughtn't\": \"ought not\", \"oughtn't've\": \"ought not have\", \"shan't\": \"shall not\", \"sha'n't\": \"shall not\", \"shan't've\": \"shall not have\",\n",
    "                           \"she'd\": \"she would\", \"she'd've\": \"she would have\", \"she'll\": \"she will\", \"she'll've\": \"she will have\", \"she's\": \"she is\",\n",
    "                           \"should've\": \"should have\", \"shouldn't\": \"should not\", \"shouldn't've\": \"should not have\", \"so've\": \"so have\",\"so's\": \"so as\",\n",
    "                           \"this's\": \"this is\",\"that'd\": \"that would\", \"that'd've\": \"that would have\", \"that's\": \"that is\", \"there'd\": \"there would\",\n",
    "                           \"there'd've\": \"there would have\", \"there's\": \"there is\", \"here's\": \"here is\",\"they'd\": \"they would\", \"they'd've\": \"they would have\",\n",
    "                           \"they'll\": \"they will\", \"they'll've\": \"they will have\", \"they're\": \"they are\", \"they've\": \"they have\", \"to've\": \"to have\",\n",
    "                           \"wasn't\": \"was not\", \"we'd\": \"we would\", \"we'd've\": \"we would have\", \"we'll\": \"we will\", \"we'll've\": \"we will have\", \"we're\": \"we are\",\n",
    "                           \"we've\": \"we have\", \"weren't\": \"were not\", \"what'll\": \"what will\", \"what'll've\": \"what will have\", \"what're\": \"what are\",\n",
    "                           \"what's\": \"what is\", \"what've\": \"what have\", \"when's\": \"when is\", \"when've\": \"when have\", \"where'd\": \"where did\", \"where's\": \"where is\",\n",
    "                           \"where've\": \"where have\", \"who'll\": \"who will\", \"who'll've\": \"who will have\", \"who's\": \"who is\", \"who've\": \"who have\",\n",
    "                           \"why's\": \"why is\", \"why've\": \"why have\", \"will've\": \"will have\", \"won't\": \"will not\", \"won't've\": \"will not have\",\n",
    "                           \"would've\": \"would have\", \"wouldn't\": \"would not\", \"wouldn't've\": \"would not have\", \"y'all\": \"you all\",\n",
    "                           \"y'all'd\": \"you all would\",\"y'all'd've\": \"you all would have\",\"y'all're\": \"you all are\",\"y'all've\": \"you all have\",\n",
    "                           \"you'd\": \"you would\", \"you'd've\": \"you would have\", \"you'll\": \"you will\", \"you'll've\": \"you will have\",\n",
    "                           \"you're\": \"you are\", \"you've\": \"you have\"}\n"
   ]
  },
  {
   "cell_type": "code",
   "execution_count": 9,
   "id": "8e8dfdf0",
   "metadata": {},
   "outputs": [],
   "source": [
    "stop_words = set(stopwords.words('english')) "
   ]
  },
  {
   "cell_type": "code",
   "execution_count": 10,
   "id": "536bda85",
   "metadata": {},
   "outputs": [],
   "source": [
    "def text_cleaner(text,num):\n",
    "    newString = text.lower()\n",
    "    newString = BeautifulSoup(newString, \"lxml\").text\n",
    "    newString = re.sub(r'\\([^)]*\\)', '', newString)\n",
    "    newString = re.sub('\"','', newString)\n",
    "    newString = ' '.join([contraction_mapping[t] if t in contraction_mapping else t for t in newString.split(\" \")])    \n",
    "    newString = re.sub(r\"'s\\b\",\"\",newString)\n",
    "    newString = re.sub(\"[^a-zA-Z]\", \" \", newString) \n",
    "    newString = re.sub('[m]{2,}', 'mm', newString)\n",
    "    if(num==0):\n",
    "        tokens = [w for w in newString.split() if not w in stop_words]\n",
    "    else:\n",
    "        tokens=newString.split()\n",
    "    long_words=[]\n",
    "    for i in tokens:\n",
    "        if len(i)>1:                                                 #removing short word\n",
    "            long_words.append(i)   \n",
    "    return (\" \".join(long_words)).strip()"
   ]
  },
  {
   "cell_type": "code",
   "execution_count": 11,
   "id": "5eba4298",
   "metadata": {
    "scrolled": false
   },
   "outputs": [
    {
     "data": {
      "text/plain": [
       "['ever noticed plane seats appear getting smaller smaller increasing numbers people taking skies experts questioning packed planes putting passengers risk say shrinking space aeroplanes uncomfortable putting health safety danger squabbling arm rest shrinking space planes putting health safety danger week consumer advisory group set department transportation said public hearing government happy set standards animals flying planes stipulate minimum amount space humans world animals rights space food humans said charlie leocha consumer representative committee time dot faa take stand humane treatment passengers could crowding planes lead serious issues fighting space overhead lockers crashing elbows seat back kicking tests conducted faa use planes inch pitch standard airlines decreased many economy seats united airlines inches room airlines offer little inches cynthia corbertt human factors researcher federal aviation administration conducts tests quickly passengers leave plane tests conducted using planes inches row seats standard airlines decreased reported detroit news distance two seats one point seat point seat behind known pitch airlines stick pitch inches fall united airlines inches space gulf air economy seats inches air asia offers inches spirit airlines offers inches british airways seat pitch inches easyjet inches thomson short haul seat pitch inches virgin atlantic',\n",
       " 'drunk teenage boy rescued security jumping lions enclosure zoo western india rahul kumar clambered enclosure fence kamla nehru zoological park ahmedabad began running towards animals shouting would kill mr kumar explained afterwards drunk thought would stand good chance predators next level drunk intoxicated rahul kumar climbed lions enclosure zoo ahmedabad began running towards animals shouting today kill lion mr kumar sitting near enclosure suddenly made dash lions surprising zoo security intoxicated teenager ran towards lions shouting today kill lion lion kills zoo spokesman said guards earlier spotted close enclosure idea planing enter fortunately eight moats cross getting lions usually fell second one allowing guards catch take handed police brave fool fortunately mr kumar fell moat ran towards lions could rescued zoo security staff reaching animals kumar later explained really know drunk thought would stand good chance police spokesman said cautioned sent psychiatric evaluation fortunately lions asleep zoo guards acted quickly enough prevent tragedy similar delhi last year year old man mauled death tiger indian capital climbing enclosure city zoo',\n",
       " 'dougie freedman verge agreeing new two year deal remain nottingham forest freedman stabilised forest since replaced cult hero stuart pearce club owners pleased job done city ground dougie freedman set sign new deal nottingham forest freedman impressed city ground since replacing stuart pearce february made audacious attempt play places freedman replaced pearce tailed recent weeks prevented forest ownership making moves secure freedman contract next two seasons',\n",
       " 'liverpool target neto also wanted psg clubs spain brendan rodgers faces stiff competition land fiorentina goalkeeper according brazilian agent stefano castagna reds linked move year old whose contract expires june earlier season simon mignolet dropped side january move neto never materialised former atletico paranaense keeper looks certain leave florence based club summer neto rushes goal juan iturbe bears fiorentina clash roma march neto wanted number top european clubs including liverpool psg according agent reported neto verbal agreement join serie champions juventus end season agent revealed decision future made yet castagna claims neto pick top european clubs transfer window opens summer including brendan rodgers side many european clubs interested neto example liverpool paris saint germain stefano castagna quoted saying gazzetta tv firoentina goalkeeper neto saves feet tottenham midfielder nacer chadli europa league spain clubs top level tracking real madrid see made definitive decision case accept another loan move elsewhere neto represented brazil london olympics featured senior side warned joining club national coach dunga neto joined fiorentina atletico paranaense established last two seasons',\n",
       " 'bruce jenner break silence two hour interview diane sawyer later month former olympian reality tv star speak far ranging interview sawyer special edition friday april abc news announced monday interview comes amid growing speculation father six transition woman follows closely behind involvement deadly car crash california february kardashian women known enjoying center stage stealing bruce spotlight armenia interview airs according tmz scroll video speaking bruce jenner pictured keeping kardashians speak far ranging interview diane sawyer later month abc news announced monday return diane sawyer recently mourned loss husband return abc interview rumors started swirling around jenner gender identity last year emerged beverly hills clinic adam apple shaved behavior past year also fueled speculation began embracing increasingly female appearance including growing hair shaving legs painting nails reportedly undergoing hormone therapy also split wife two decades kris jenner two daughters kyle kendall filed divorce september citing irreconcilable differences reports also emerged past week received breast enhancement bruce silicone breast implants put weeks ago source told radaronline went smaller implant want look ridiculous sunday seen walking car malibu hid body beneath bulky sweatshirt jenner pictured walking back car malibu weekend hiding beneath large sweatshirt sunday days reports undergone breast enhancement hiding also apparently painted nails red seen walking sunday according radar jenner wants surgeries completed time make screen debut woman fall season dancing stars jenner also rumored filming spin docu series transition although reps refused confirm claims jenner remained silent reported transition relatives including step daughter kim kardashian spoken journey guess kind let everyone curious feel like journey talk kim recently told entertainment tonight say think bruce tell story way think everyone goes things life think story bruce going think share whenever time right jenner gold decathlon olympics also made headlines earlier year involvement deadly car crash malibu deadly february jenner vehicle pulling trailer atv rear ended woman car pushed lane oncoming hummer died scene side bruce pictured ex wife kris jenner four step children rob kim kourtney khloe received support family kris filed divorce last year cadillac escalade pulling trailer road vehicle plowed back lexus pushed path oncoming hummer february lexus carrying year old kim howe died chest trauma scene police sources say jenner unlikely prosecuted drinking speeding texting time fatal crash tell interview also one sawyer first forays back tv news following death husband acclaimed director mike nichols following heart attack last november last september left anchor chair abc world news announced planned focus specials february presented nation women behind bars went prisons across country speak female inmates',\n",
       " 'moment crew firefighters struggled haul giant pig garden swimming pool prize porker known pigwig fallen pool upmarket neighbourhood ringwood hampshire owners taking walk around garden animal plunged water unable get team dorset fire rescue struggled haul huge black pig swimming pool water prize porker known pigwig fallen water unable get two fire crews specialist animal rescue team use slide boards strops haul huge black pig small pool spokesman dorset fire rescue service said pm yesterday service received call pig stuck swimming pool one crew firefighters ferndown specialist animal rescue unit poole mobilised incident attendance crew secured pig strops requested attendance another appliance mobilised ringwood colleagues hampshire fire rescue service firefighters also called horse fallen swimming pool heyshott west sussex exhausted animal winched using terrain crane appeared worse wear tumble crew rescued pig swimming pool using specialist animal rescue slide boards strops lines haul pig swimming pool pigwig animal needed rescuing taking unexpected swim crews west sussex called swimming pool time horse fallen wet bedraggled exhausted animal put opposition firefighters arrived hoist small garden pool heyshott two hour rescue operation ended wayward horse fitted straps belly lifted air terrain crane swung around deposited back dry land fire brigade spokesman said appeared none worse impromptu swim stepping edge domestic pool',\n",
       " 'amount time people spend listening bbc radio dropped lowest level ever corporation boss admitted figures show millions still tune listen much shorter bursts average listener spent ten hours week tuning bbc radio last three months according official figures length time people spend listening bbc radio dropped lowest level ever figures show per cent decade earlier listeners clocked average hours week minutes bbc trust february meeting published yesterday revealed director general tony hall highlighted fall noted time spent listening bbc radio dropped lowest ever level documents said sources blamed downward trend people leading faster paced lives past change habits amongst young people lord tony hall bbc director general highlighted decline bbc trust according minutes february meeting many people used listen radio daily habit turn online streaming services spotify music fix problem likely grow apple develops long rumoured streaming service bbc spokesman said number people listening bbc radio stations audience appreciation levels high ever time spent listening inevitably affected digital competition people tune new digital ways ways reflected traditional listening figures quoted like watching videos radio shows listening podcasts bbc radio still reaching per cent population week according last set figures available rajar organisation measures radio audiences although figure feels relatively healthy today standards none less fallen last decade final three months per cent people britain listened bbc network radio every week lord hall also used bbc trust meeting note strong performance bbc radio digital music station corporation one point planning scrap reported recent rajar figures showed music become first digital station reach two million listeners minutes said earlier month matthew postgate bbc chief technology officer said corporation would adopt new digital first strategy help target new generation users said organisation needed learn lessons want compete organisations born digital age',\n",
       " 'would like full house reunion spinoff got dude co star john stamos announced monday night jimmy kimmel live netflix ordered reunion special followed spinoff series called fuller house show feature candace cameron bure played eldest daughter tanner original series aired recently widowed mother three boys sort role reversal turn house stamos told kimmel jodie sweetin played stephanie tanner original series andrea barber portrayed best friend kimmy gibbler return new series netflix said stamos produce guest star talks co starsbob saget mary kate ashley olsen dave coulier lori loughlin ongoing netflix said show available next year netflix said big fans original full house thrilled able introduce fuller house new narrative existing fans worldwide grew original well new generation global viewers grown tanners syndication netflix vice president original content cindy holland said statement show starts tanner named tanner fuller pregnant recently widowed living san francisco younger sister stephanie aspiring musician lifelong best friend fellow single mom kimmy move help care two boys new baby monday barber tweeted cameron bure ask whether ready resume onscreen friendship never stopped cameron bure tweeted back fans moon news',\n",
       " 'pm former world champion ken doherty potted final black extinguished dream reanne evans become first women player play hallowed baize sheffield crucible theatre world snooker championship every respect however year old evans single mum dudley winner thursday night advanced cause women sport end gave doherty fright life enthralling attritional match bettered year qualifying tournament snooker governing body criticised quarters allowing evans wild card compete alongside male players right play sport blue chip event april something female achieved reanne evans shakes hands ken doherty following victory ponds forge evans plays shot world championship qualifying match doherty doherty world championship title back took first frame evans doherty sorts trouble former champion closed game critics bookies made doherty ridiculously short priced favourite made look foolish evans illustrious opponent ropes finally bowing gracious doherty admitted afterwards played skin good match play snooker tough way lot pressure match different kind pressure ever experienced usually feel sympathy opponents felt sorry end played better lost know final frame gone would million one win evans cheered eight year old daughter lauren ponds forge sports centre sheffield admitted exhausted match unfamiliar intensity time ladies champion evans led twice opening session doherty went front time ladies world champion collected prize money winning title completely different environment player beat stephen hendry crowned best player world struggle experience ken dig said ken little runs needed could tell pressure balls wobbling first frame could take advantage end play better reason cannot return beat ken even players women game shoulders hope get help allowed play big tournaments give experience next week playing ladies club lovely club get wrong think many ladies could give ken game think would would taken presence television crews snooker star ronnie sullivan underlined big story evans participation evans eyes move enthralling game doherty sheffield lost first frame convincingly nerves show reeled three frames row led doherty went front pegged back irishman ranked world started look years sat every opportunity evans often stood played confidence play right handed left handed sullivan sometimes key frame sixteenth lasted minutes evans rattling first points doherty next took doherty lead evans came roaring back next frame needed snooker avoid match going final frame got doherty ranked world showed experience close contest two qualifying rounds makes crucible doubtful face tougher opponent let play competitions added evans certainly use match become leading ambassador women sport purple silver waistcoats drew admiring glances swimmers trampolinists turned leisure centre normal walked reception basketball hall snooker tables set next time know exactly',\n",
       " 'gang six men jailed total years convicted string sexual offences teenager girls offences ranged inciting sexual activity child rape happened cars woods defendants homes banbury oxfordshire oxford crown court heard lured victims parties organised social media began sexually abusing men found guilty march handed sentences three nine years jail jailed ahmed hassan sule sentenced nine years imprisonment mohamed saleh imprisoned four years nine months girls aged targeted gang parties organised ahmed hassan sule known fiddy one child described parties place girls would go boys would choose targets victims described court emotionally immature abused sentencing hassan sule others court packed friends relatives defendants victims yesterday judge zoe smith said put charity events raise money football club raised profile among young people banbury saw celebrity friends helped put events became sexually promiscuous group girlfriends girls young vulnerable lacking maturity judge rejected argument put forward defence accused girls coming forward better victim slag behind bars kagiso manase jailed four years said saleh sentenced four years detention young offenders institute one victims told oxford mail used go missing would swear mum realise really nasty men put family really clever started hanging around felt important friends people left talk big part life scared felt like friends making new memories part calling people slags defence case stops girls coming forward would say girls think future never wanted never wanted sex thought friends thames valley police launched operation reportage receiving tip men activities eventually tracked numerous teenager girls molested detective inspector steve raffield banbury force cid said result would possible without bravery victims would like thank coming forward giving evidence case trials without testimony would today result young people safeguarded men time reflect upon actions prison convicted takudzwa hova sentenced six years imprisonment zsolt szalontai sentenced three years detention young offenders institute found guilty rape justice judge rejected argument put forward defence oxford crown court accused girls coming forward better victim slag jailed friday afternoon oxford crown court ahmed hassan sule banbury found guilty counts sexual activity child one count assault penetration sentenced nine years imprisonment mohamed saleh banbury found guilty two counts sexual activity child sentenced four years nine months imprisonment said saleh banbury found guilty one count sexual activity child sentenced four years detention young offenders institute takudzwa hova banbury found guilty one count sexual activity child two counts causing inciting child engage sexual activity one count rape sentenced six years imprisonment kagiso manase banbury found guilty two counts sexual activity child two counts causing inciting child engage sexual activity one count sexual assault sentenced four years imprisonment manase also pleaded guilty possession identity documents intent offence related found possession control false south african passport uk residence permit sentenced one year imprisonment run consecutively zsolt szalontai banbury found guilty one count rape sentenced three years detention young offenders institute']"
      ]
     },
     "execution_count": 11,
     "metadata": {},
     "output_type": "execute_result"
    }
   ],
   "source": [
    "cleaned_article = []\n",
    "for t in data['article']:\n",
    "    cleaned_article.append(text_cleaner(t,0))\n",
    "cleaned_article[:10]  "
   ]
  },
  {
   "cell_type": "code",
   "execution_count": 12,
   "id": "3899b0d3",
   "metadata": {},
   "outputs": [
    {
     "data": {
      "text/plain": [
       "['experts question if packed out planes are putting passengers at risk consumer advisory group says minimum space must be stipulated safety tests conducted on planes with more leg room than airlines offer',\n",
       " 'drunk teenage boy climbed into lion enclosure at zoo in west india rahul kumar ran towards animals shouting today kill lion fortunately he fell into moat before reaching lions and was rescued',\n",
       " 'nottingham forest are close to extending dougie freedman contract the forest boss took over from former manager stuart pearce in february freedman has since lead the club to ninth in the championship',\n",
       " 'fiorentina goalkeeper neto has been linked with liverpool and arsenal neto joined firoentina from brazilian outfit atletico paranaense in he is also wanted by psg and spanish clubs according to his agent click here for the latest liverpool news',\n",
       " 'tell all interview with the reality tv star will air on friday april it comes amid continuing speculation about his transition to woman and following his involvement in deadly car crash in february the interview will also be one of diane sawyer first appearances on television following the sudden death of her husband last year',\n",
       " 'giant pig fell into the swimming pool at his home in ringwood hampshire it took the efforts of team of firefighters to winch him out of the water wayward horse also had to be rescued from swimming pool in sussex',\n",
       " 'figures show that while millions still tune in they listen for shorter bursts average listener spent ten hours week tuning in last three months of this was down on decade earlier when people tuned in for hours the bbc trust has cleared the way for firms to buy their way into lifestyle programmes on the world news channel in product placement experiment for example publishers could pay to have their books reviewed on talking books the bbc trust will review the scheme in year',\n",
       " 'show will return with one hour special followed by spinoff star john stamos says he announced the show monday night on jimmy kimmel live',\n",
       " 'reanne evans faced ken doherty in world championship qualifier doherty won the world championship in evans lost the first frame against doherty but the dudley native fought back to lead ken doherty however managed to close out an enthralling contest',\n",
       " 'gang have been jailed for total of years for sexually abusing children offences happened in cars woods or at the defendants homes in banbury lured victims to parties organised on social media and then abused them girls aged between and were exploited by the gang from to']"
      ]
     },
     "execution_count": 12,
     "metadata": {},
     "output_type": "execute_result"
    }
   ],
   "source": [
    "#call the function\n",
    "cleaned_highlights = []\n",
    "for t in data['highlights']:\n",
    "    cleaned_highlights.append(text_cleaner(t,1))\n",
    "cleaned_highlights[:10]"
   ]
  },
  {
   "cell_type": "code",
   "execution_count": 13,
   "id": "2fb33629",
   "metadata": {},
   "outputs": [],
   "source": [
    "data['cleaned_article']=cleaned_article\n",
    "data['cleaned_highlights']=cleaned_highlights"
   ]
  },
  {
   "cell_type": "code",
   "execution_count": 14,
   "id": "455b0ee3",
   "metadata": {},
   "outputs": [],
   "source": [
    "data.replace('', np.nan, inplace=True)\n",
    "data.dropna(axis=0,inplace=True)"
   ]
  },
  {
   "cell_type": "code",
   "execution_count": 15,
   "id": "92592e92",
   "metadata": {},
   "outputs": [
    {
     "data": {
      "image/png": "[encoded data removed]",
      "text/plain": [
       "<Figure size 640x480 with 2 Axes>"
      ]
     },
     "metadata": {},
     "output_type": "display_data"
    }
   ],
   "source": [
    "import matplotlib.pyplot as plt\n",
    "\n",
    "article_word_count = []\n",
    "highlights_word_count = []\n",
    "\n",
    "# populate the lists with sentence lengths\n",
    "for i in data['cleaned_article']:\n",
    "      article_word_count.append(len(i.split()))\n",
    "\n",
    "for i in data['cleaned_highlights']:\n",
    "      highlights_word_count.append(len(i.split()))\n",
    "\n",
    "length_df = pd.DataFrame({'article':article_word_count, 'highlights':highlights_word_count})\n",
    "\n",
    "length_df.hist(bins = 30)\n",
    "plt.show()"
   ]
  },
  {
   "cell_type": "code",
   "execution_count": 16,
   "id": "fe3e96c0",
   "metadata": {},
   "outputs": [
    {
     "name": "stdout",
     "output_type": "stream",
     "text": [
      "0.00017406440382941688\n"
     ]
    }
   ],
   "source": [
    "cnt=0\n",
    "for i in data['cleaned_highlights']:\n",
    "    if(len(i.split())<=10):\n",
    "        cnt=cnt+1\n",
    "print(cnt/len(data['cleaned_highlights']))"
   ]
  },
  {
   "cell_type": "code",
   "execution_count": 17,
   "id": "3d1c2833",
   "metadata": {},
   "outputs": [
    {
     "name": "stdout",
     "output_type": "stream",
     "text": [
      "0.004351610095735422\n"
     ]
    }
   ],
   "source": [
    "cnt=0\n",
    "for i in data['cleaned_article']:\n",
    "    if(len(i.split())<=80):\n",
    "        cnt=cnt+1\n",
    "print(cnt/len(data['cleaned_article']))"
   ]
  },
  {
   "cell_type": "code",
   "execution_count": 18,
   "id": "2e7fb99c",
   "metadata": {},
   "outputs": [],
   "source": [
    "max_article_len=80\n",
    "max_highlights_len=10"
   ]
  },
  {
   "cell_type": "code",
   "execution_count": 19,
   "id": "e61e279f",
   "metadata": {},
   "outputs": [],
   "source": [
    "\n",
    "cleaned_article =np.array(data['cleaned_article'])\n",
    "cleaned_highlights=np.array(data['cleaned_highlights'])\n",
    "\n",
    "short_article=[]\n",
    "short_highlights=[]\n",
    "\n",
    "for i in range(len(cleaned_article)):\n",
    "    if(len(cleaned_highlights[i].split())<=max_highlights_len and len(cleaned_article[i].split())<=max_article_len):\n",
    "        short_article.append(cleaned_article[i])\n",
    "        short_highlights.append(cleaned_highlights[i])\n",
    "        \n",
    "#df=pd.DataFrame({'article':short_article,'highlights':short_highlights})"
   ]
  },
  {
   "cell_type": "code",
   "execution_count": 20,
   "id": "bc3c1113",
   "metadata": {},
   "outputs": [],
   "source": [
    "data['highlights'] = data['highlights'].apply(lambda x : 'sostok '+ x + ' eostok')"
   ]
  },
  {
   "cell_type": "code",
   "execution_count": 21,
   "id": "c98ae8f7",
   "metadata": {
    "scrolled": false
   },
   "outputs": [
    {
     "name": "stdout",
     "output_type": "stream",
     "text": [
      "article: Ever noticed how plane seats appear to be getting smaller and smaller? With increasing numbers of people taking to the skies, some experts are questioning if having such packed out planes is putting passengers at risk. They say that the shrinking space on aeroplanes is not only uncomfortable - it's putting our health and safety in danger. More than squabbling over the arm rest, shrinking space on planes putting our health and safety in danger? This week, a U.S consumer advisory group set up by the Department of Transportation said at a public hearing that while the government is happy to set standards for animals flying on planes, it doesn't stipulate a minimum amount of space for humans. 'In a world where animals have more rights to space and food than humans,' said Charlie Leocha, consumer representative on the committee. 'It is time that the DOT and FAA take a stand for humane treatment of passengers.' But could crowding on planes lead to more serious issues than fighting for space in the overhead lockers, crashing elbows and seat back kicking? Tests conducted by the FAA use planes with a 31 inch pitch, a standard which on some airlines has decreased . Many economy seats on United Airlines have 30 inches of room, while some airlines offer as little as 28 inches . Cynthia Corbertt, a human factors researcher with the Federal Aviation Administration, that it conducts tests on how quickly passengers can leave a plane. But these tests are conducted using planes with 31 inches between each row of seats, a standard which on some airlines has decreased, reported the Detroit News. The distance between two seats from one point on a seat to the same point on the seat behind it is known as the pitch. While most airlines stick to a pitch of 31 inches or above, some fall below this. While United Airlines has 30 inches of space, Gulf Air economy seats have between 29 and 32 inches, Air Asia offers 29 inches and Spirit Airlines offers just 28 inches. British Airways has a seat pitch of 31 inches, while easyJet has 29 inches, Thomson's short haul seat pitch is 28 inches, and Virgin Atlantic's is 30-31.\n",
      "highlights: sostok Experts question if  packed out planes are putting passengers at risk .\n",
      "U.S consumer advisory group says minimum space must be stipulated .\n",
      "Safety tests conducted on planes with more leg room than airlines offer . eostok\n",
      "\n",
      "\n",
      "article: A drunk teenage boy had to be rescued by security after jumping into a lions' enclosure at a zoo in western India. Rahul Kumar, 17, clambered over the enclosure fence at the Kamla Nehru Zoological Park in Ahmedabad, and began running towards the animals, shouting he would 'kill them'. Mr Kumar explained afterwards that he was drunk and 'thought I'd stand a good chance' against the predators. Next level drunk: Intoxicated Rahul Kumar, 17, climbed into the lions' enclosure at a zoo in Ahmedabad and began running towards the animals shouting 'Today I kill a lion!' Mr Kumar had been sitting near the enclosure when he suddenly made a dash for the lions, surprising zoo security. The intoxicated teenager ran towards the lions, shouting: 'Today I kill a lion or a lion kills me!' A zoo spokesman said: 'Guards had earlier spotted him close to the enclosure but had no idea he was planing to enter it. 'Fortunately, there are eight moats to cross before getting to where the lions usually are and he fell into the second one, allowing guards to catch up with him and take him out. 'We then handed him over to the police.' Brave fool: Fortunately, Mr Kumar  fell into a moat as he ran towards the lions and could be rescued by zoo security staff before reaching the animals (stock image) Kumar later explained: 'I don't really know why I did it. 'I was drunk and thought I'd stand a good chance.' A police spokesman said: 'He has been cautioned and will be sent for psychiatric evaluation. 'Fortunately for him, the lions were asleep and the zoo guards acted quickly enough to prevent a tragedy similar to that in Delhi.' Last year a 20-year-old man was mauled to death by a tiger in the Indian capital after climbing into its enclosure at the city zoo.\n",
      "highlights: sostok Drunk teenage boy climbed into lion enclosure at zoo in west India .\n",
      "Rahul Kumar, 17, ran towards animals shouting 'Today I kill a lion!'\n",
      "Fortunately he fell into a moat before reaching lions and was rescued . eostok\n",
      "\n",
      "\n",
      "article: Dougie Freedman is on the verge of agreeing a new two-year deal to remain at Nottingham Forest. Freedman has stabilised Forest since he replaced cult hero Stuart Pearce and the club's owners are pleased with the job he has done at the City Ground. Dougie Freedman is set to sign a new deal at Nottingham Forest . Freedman has impressed at the City Ground since replacing Stuart Pearce in February . They made an audacious attempt on the play-off places when Freedman replaced Pearce but have tailed off in recent weeks. That has not prevented Forest's ownership making moves to secure Freedman on a contract for the next two seasons.\n",
      "highlights: sostok Nottingham Forest are close to extending Dougie Freedman's contract .\n",
      "The Forest boss took over from former manager Stuart Pearce in February .\n",
      "Freedman has since lead the club to ninth in the Championship . eostok\n",
      "\n",
      "\n",
      "article: Liverpool target Neto is also wanted by PSG and clubs in Spain as Brendan Rodgers faces stiff competition to land the Fiorentina goalkeeper, according to the Brazilian's agent Stefano Castagna. The Reds were linked with a move for the 25-year-old, whose contract expires in June, earlier in the season when Simon Mignolet was dropped from the side. A January move for Neto never materialised but the former Atletico Paranaense keeper looks certain to leave the Florence-based club in the summer. Neto rushes from his goal as Juan Iturbe bears down on him during Fiorentina's clash with Roma in March . Neto is wanted by a number of top European clubs including Liverpool and PSG, according to his agent . It had been reported that Neto had a verbal agreement to join Serie A champions Juventus at the end of the season but his agent has revealed no decision about his future has been made yet. And Castagna claims Neto will have his pick of top European clubs when the transfer window re-opens in the summer, including Brendan Rodgers' side. 'There are many European clubs interested in Neto, such as for example Liverpool and Paris Saint-Germain,' Stefano Castagna is quoted as saying by Gazzetta TV. Firoentina goalkeeper Neto saves at the feet of Tottenham midfielder Nacer Chadli in the Europa League . 'In Spain too there are clubs at the very top level who are tracking him. Real Madrid? We'll see. 'We have not made a definitive decision, but in any case he will not accept another loan move elsewhere.' Neto, who represented Brazil at the London 2012 Olympics but has not featured for the senior side, was warned against joining a club as a No 2 by national coach Dunga. Neto joined Fiorentina from Atletico Paranaense in 2011 and established himself as No1 in the last two seasons.\n",
      "highlights: sostok Fiorentina goalkeeper Neto has been linked with Liverpool and Arsenal .\n",
      "Neto joined Firoentina from Brazilian outfit Atletico Paranaense in 2011 .\n",
      "He is also wanted by PSG and Spanish clubs, according to his agent .\n",
      "CLICK HERE for the latest Liverpool news . eostok\n",
      "\n",
      "\n",
      "article: Bruce Jenner will break his silence in a two-hour interview with Diane Sawyer later this month. The former Olympian and reality TV star, 65, will speak in a 'far-ranging' interview with Sawyer for a special edition of '20/20' on Friday April 24, ABC News announced on Monday. The interview comes amid growing speculation about the father-of-six's transition to a woman, and follows closely behind his involvement in a deadly car crash in California in February. And while the Kardashian women are known for enjoying center stage, they will not be stealing Bruce's spotlight because they will be in Armenia when the interview airs, according to TMZ. Scroll down for video . Speaking out: Bruce Jenner, pictured on 'Keeping Up with the Kardashians' will speak out in a 'far-ranging' interview with Diane Sawyer later this month, ABC News announced on Monday . Return: Diane Sawyer, who recently mourned the loss of her husband, will return to ABC for the interview . Rumors started swirling around Jenner's gender identity last year, when he emerged from a Beverly Hills clinic with his Adam's apple shaved down. His behavior over the past year also fueled speculation as he began embracing an increasingly female appearance, including growing out his hair, shaving his legs and painting his nails, while reportedly undergoing hormone therapy. He also split from with his wife of more than two decades, Kris Jenner, with whom he has two daughters, Kyle and Kendall. She filed for divorce in September 2014, citing 'irreconcilable differences'. Reports also emerged over the past week that he has received a breast enhancement. 'Bruce had silicone breast implants put in a few weeks ago,' a source told RadarOnline. 'He went with a smaller implant because he didn't want to look ridiculous.' On Sunday, he was seen walking to his car in Malibu but hid his body beneath a bulky sweatshirt. Out and about: Jenner was pictured walking back to his car in Malibu on the weekend and hiding beneath a large sweatshirt on Sunday, days after reports that he had undergone a breast enhancement . Hiding: He also apparently had painted his nails red when he was seen walking on Sunday . According to Radar, Jenner wants to have all surgeries completed in time to make his on-screen debut as a woman on the fall season of 'Dancing with the Stars'. Jenner is also rumored to be filming a spin-off docu-series about the transition on E!, although his reps have refused to confirm the claims. While Jenner himself has remained silent about his reported transition, some of his relatives, including step-daughter Kim Kardashian, have spoken about about his 'journey'. 'I guess I'll kind of let everyone be curious and I feel like that's his journey to talk about,' Kim recently told Entertainment Tonight. 'I will say that I think Bruce should tell his story his way. I think everyone goes through things in life and I think that story and what Bruce is going through, I think he'll share whenever the time is right.' Jenner, who won gold in the decathlon at the 1976 Olympics, also made headlines earlier this year for his involvement in a deadly car crash in Malibu. Deadly: In February, Jenner's vehicle, which was pulling a trailer and an ATV (seen right) rear-ended a woman's car (left) and pushed it into the lane of an oncoming Hummer. She died at the scene . By his side: Bruce, pictured with his ex-wife Kris Jenner and four of his step-children (from left) Rob, Kim, Kourtney and Khloe, has received support from his family. Kris filed for divorce from him last year . His Cadillac Escalade, which was pulling a trailer and off-road vehicle, plowed into the back of a Lexus and pushed it into the path of an oncoming Hummer on February 7. The Lexus was carrying 69-year-old Kim Howe, who died from chest trauma at the scene. Police sources say Jenner is unlikely to be prosecuted because he wasn't drinking, speeding or texting at the time of the fatal crash. His tell-all interview will also be one of Sawyer's first forays back to TV news following the death of her husband, acclaimed director Mike Nichols, following a heart attack last November. Last September, she left the anchor chair of ABC World News and announced that she planned to focus on specials. In February, she presented 'A Nation of Women Behind Bars', in which she went to prisons across the country to speak with female inmates.\n",
      "highlights: sostok Tell-all interview with the reality TV star, 69, will air on Friday April 24 .\n",
      "It comes amid continuing speculation about his transition to a woman and following his involvement in a deadly car crash in February .\n",
      "The interview will also be one of Diane Sawyer's first appearances on television following the sudden death of her husband last year . eostok\n",
      "\n",
      "\n"
     ]
    }
   ],
   "source": [
    "for i in range(5):\n",
    "    print(\"article:\",data['article'][i])\n",
    "    print(\"highlights:\",data['highlights'][i])\n",
    "    print(\"\\n\")"
   ]
  },
  {
   "cell_type": "code",
   "execution_count": 22,
   "id": "ff78fe8d",
   "metadata": {},
   "outputs": [],
   "source": [
    "from sklearn.model_selection import train_test_split\n",
    "x_tr,x_val,y_tr,y_val=train_test_split(np.array(data['article']),np.array(data['highlights']),test_size=0.05,random_state=0,shuffle=True) "
   ]
  },
  {
   "cell_type": "code",
   "execution_count": 23,
   "id": "3a0067dc",
   "metadata": {},
   "outputs": [],
   "source": [
    "x_tokenizer = Tokenizer() \n",
    "x_tokenizer.fit_on_texts(list(x_tr))"
   ]
  },
  {
   "cell_type": "code",
   "execution_count": 24,
   "id": "31035e91",
   "metadata": {},
   "outputs": [
    {
     "name": "stdout",
     "output_type": "stream",
     "text": [
      "% of rare words in vocabulary: 62.86774034658268\n",
      "Total Coverage of rare words: 0.164379488705592\n"
     ]
    }
   ],
   "source": [
    "thresh=4\n",
    "\n",
    "cnt=0\n",
    "tot_cnt=0\n",
    "freq=0\n",
    "tot_freq=0\n",
    "\n",
    "for key,value in x_tokenizer.word_counts.items():\n",
    "    tot_cnt=tot_cnt+1\n",
    "    tot_freq=tot_freq+value\n",
    "    if(value<thresh):\n",
    "        cnt=cnt+1\n",
    "        freq=freq+value\n",
    "    \n",
    "print(\"% of rare words in vocabulary:\",(cnt/tot_cnt)*100)\n",
    "print(\"Total Coverage of rare words:\",(freq/tot_freq)*10)"
   ]
  },
  {
   "cell_type": "code",
   "execution_count": 25,
   "id": "2433d255",
   "metadata": {},
   "outputs": [],
   "source": [
    "#prepare a tokenizer for reviews on training data\n",
    "x_tokenizer = Tokenizer(num_words=tot_cnt-cnt) \n",
    "x_tokenizer.fit_on_texts(list(x_tr))\n",
    "\n",
    "#convert text sequences into integer sequences\n",
    "x_tr_seq    =   x_tokenizer.texts_to_sequences(x_tr) \n",
    "x_val_seq   =   x_tokenizer.texts_to_sequences(x_val)\n",
    "\n",
    "#padding zero upto maximum length\n",
    "x_tr    =   pad_sequences(x_tr_seq,  maxlen=max_article_len, padding='post')\n",
    "x_val   =   pad_sequences(x_val_seq, maxlen=max_article_len, padding='post')\n",
    "\n",
    "#size of vocabulary ( +1 for padding token)\n",
    "x_voc   =  x_tokenizer.num_words + 1"
   ]
  },
  {
   "cell_type": "code",
   "execution_count": 26,
   "id": "c24ca2a9",
   "metadata": {},
   "outputs": [
    {
     "data": {
      "text/plain": [
       "49756"
      ]
     },
     "execution_count": 26,
     "metadata": {},
     "output_type": "execute_result"
    }
   ],
   "source": [
    "x_voc"
   ]
  },
  {
   "cell_type": "code",
   "execution_count": 27,
   "id": "645b5214",
   "metadata": {},
   "outputs": [],
   "source": [
    "y_tokenizer = Tokenizer()\n",
    "y_tokenizer.fit_on_texts(list(y_tr))"
   ]
  },
  {
   "cell_type": "code",
   "execution_count": 28,
   "id": "a53faa50",
   "metadata": {},
   "outputs": [
    {
     "name": "stdout",
     "output_type": "stream",
     "text": [
      "% of rare words in vocabulary: 79.48332550493188\n",
      "Total Coverage of rare words: 9.718739456332473\n"
     ]
    }
   ],
   "source": [
    "thresh=6\n",
    "\n",
    "cnt=0\n",
    "tot_cnt=0\n",
    "freq=0\n",
    "tot_freq=0\n",
    "\n",
    "for key,value in y_tokenizer.word_counts.items():\n",
    "    tot_cnt=tot_cnt+1\n",
    "    tot_freq=tot_freq+value\n",
    "    if(value<thresh):\n",
    "        cnt=cnt+1\n",
    "        freq=freq+value\n",
    "    \n",
    "print(\"% of rare words in vocabulary:\",(cnt/tot_cnt)*100)\n",
    "print(\"Total Coverage of rare words:\",(freq/tot_freq)*100)"
   ]
  },
  {
   "cell_type": "code",
   "execution_count": 29,
   "id": "71f07ab8",
   "metadata": {},
   "outputs": [],
   "source": [
    "#prepare a tokenizer for summaries on training data\n",
    "y_tokenizer = Tokenizer(num_words=tot_cnt-cnt) \n",
    "y_tokenizer.fit_on_texts(list(y_tr))\n",
    "\n",
    "#convert text sequences into integer sequences\n",
    "y_tr_seq    =   y_tokenizer.texts_to_sequences(y_tr) \n",
    "y_val_seq   =   y_tokenizer.texts_to_sequences(y_val) \n",
    "\n",
    "#padding zero upto maximum length\n",
    "y_tr    =   pad_sequences(y_tr_seq, maxlen=max_highlights_len, padding='post')\n",
    "y_val   =   pad_sequences(y_val_seq, maxlen=max_highlights_len, padding='post')\n",
    "\n",
    "#size of vocabulary\n",
    "y_voc  =   y_tokenizer.num_words +1"
   ]
  },
  {
   "cell_type": "code",
   "execution_count": 30,
   "id": "f8ee10b4",
   "metadata": {},
   "outputs": [
    {
     "data": {
      "text/plain": [
       "(10915, 10915)"
      ]
     },
     "execution_count": 30,
     "metadata": {},
     "output_type": "execute_result"
    }
   ],
   "source": [
    "y_tokenizer.word_counts['sostok'],len(y_tr)"
   ]
  },
  {
   "cell_type": "code",
   "execution_count": 31,
   "id": "9b71aef9",
   "metadata": {},
   "outputs": [],
   "source": [
    "ind=[]\n",
    "for i in range(len(y_tr)):\n",
    "    cnt=0\n",
    "    for j in y_tr[i]:\n",
    "        if j!=0:\n",
    "            cnt=cnt+1\n",
    "    if(cnt==2):\n",
    "        ind.append(i)\n",
    "\n",
    "y_tr=np.delete(y_tr,ind, axis=0)\n",
    "x_tr=np.delete(x_tr,ind, axis=0)"
   ]
  },
  {
   "cell_type": "code",
   "execution_count": 32,
   "id": "894f76b4",
   "metadata": {},
   "outputs": [],
   "source": [
    "ind=[]\n",
    "for i in range(len(y_val)):\n",
    "    cnt=0\n",
    "    for j in y_val[i]:\n",
    "        if j!=0:\n",
    "            cnt=cnt+1\n",
    "    if(cnt==2):\n",
    "        ind.append(i)\n",
    "\n",
    "y_val=np.delete(y_val,ind, axis=0)\n",
    "x_val=np.delete(x_val,ind, axis=0)"
   ]
  },
  {
   "cell_type": "code",
   "execution_count": 33,
   "id": "4bb2a0b9",
   "metadata": {},
   "outputs": [],
   "source": [
    "import tensorflow as tf\n",
    "from tensorflow.python.keras import backend as K\n",
    "\n",
    "logger = tf.get_logger()\n",
    "\n",
    "class AttentionLayer(tf.keras.layers.Layer):\n",
    "    \"\"\"\n",
    "    This class implements Bahdanau attention (https://arxiv.org/pdf/1409.0473.pdf).\n",
    "    There are three sets of weights introduced W_a, U_a, and V_a\n",
    "     \"\"\"\n",
    "\n",
    "    def __init__(self, **kwargs):\n",
    "        super(AttentionLayer, self).__init__(**kwargs)\n",
    "\n",
    "    def build(self, input_shape):\n",
    "        assert isinstance(input_shape, list)\n",
    "        # Create a trainable weight variable for this layer.\n",
    "\n",
    "        self.W_a = self.add_weight(name='W_a',\n",
    "                                   shape=tf.TensorShape((input_shape[0][2], input_shape[0][2])),\n",
    "                                   initializer='uniform',\n",
    "                                   trainable=True)\n",
    "        self.U_a = self.add_weight(name='U_a',\n",
    "                                   shape=tf.TensorShape((input_shape[1][2], input_shape[0][2])),\n",
    "                                   initializer='uniform',\n",
    "                                   trainable=True)\n",
    "        self.V_a = self.add_weight(name='V_a',\n",
    "                                   shape=tf.TensorShape((input_shape[0][2], 1)),\n",
    "                                   initializer='uniform',\n",
    "                                   trainable=True)\n",
    "\n",
    "        super(AttentionLayer, self).build(input_shape)  # Be sure to call this at the end\n",
    "\n",
    "    def call(self, inputs):\n",
    "        \"\"\"\n",
    "        inputs: [encoder_output_sequence, decoder_output_sequence]\n",
    "        \"\"\"\n",
    "        assert type(inputs) == list\n",
    "        encoder_out_seq, decoder_out_seq = inputs\n",
    "\n",
    "        logger.debug(f\"encoder_out_seq.shape = {encoder_out_seq.shape}\")\n",
    "        logger.debug(f\"decoder_out_seq.shape = {decoder_out_seq.shape}\")\n",
    "\n",
    "        def energy_step(inputs, states):\n",
    "            \"\"\" Step function for computing energy for a single decoder state\n",
    "            inputs: (batchsize * 1 * de_in_dim)\n",
    "            states: (batchsize * 1 * de_latent_dim)\n",
    "            \"\"\"\n",
    "\n",
    "            logger.debug(\"Running energy computation step\")\n",
    "\n",
    "            if not isinstance(states, (list, tuple)):\n",
    "                raise TypeError(f\"States must be an iterable. Got {states} of type {type(states)}\")\n",
    "\n",
    "            encoder_full_seq = states[-1]\n",
    "\n",
    "            \"\"\" Computing S.Wa where S=[s0, s1, ..., si]\"\"\"\n",
    "            # <= batch size * en_seq_len * latent_dim\n",
    "            W_a_dot_s = K.dot(encoder_full_seq, self.W_a)\n",
    "\n",
    "            \"\"\" Computing hj.Ua \"\"\"\n",
    "            U_a_dot_h = K.expand_dims(K.dot(inputs, self.U_a), 1)  # <= batch_size, 1, latent_dim\n",
    "\n",
    "            logger.debug(f\"U_a_dot_h.shape = {U_a_dot_h.shape}\")\n",
    "\n",
    "            \"\"\" tanh(S.Wa + hj.Ua) \"\"\"\n",
    "            # <= batch_size*en_seq_len, latent_dim\n",
    "            Ws_plus_Uh = K.tanh(W_a_dot_s + U_a_dot_h)\n",
    "\n",
    "            logger.debug(f\"Ws_plus_Uh.shape = {Ws_plus_Uh.shape}\")\n",
    "\n",
    "            \"\"\" softmax(va.tanh(S.Wa + hj.Ua)) \"\"\"\n",
    "            # <= batch_size, en_seq_len\n",
    "            e_i = K.squeeze(K.dot(Ws_plus_Uh, self.V_a), axis=-1)\n",
    "            # <= batch_size, en_seq_len\n",
    "            e_i = K.softmax(e_i)\n",
    "\n",
    "            logger.debug(f\"ei.shape = {e_i.shape}\")\n",
    "\n",
    "            return e_i, [e_i]\n",
    "\n",
    "        def context_step(inputs, states):\n",
    "            \"\"\" Step function for computing ci using ei \"\"\"\n",
    "\n",
    "            logger.debug(\"Running attention vector computation step\")\n",
    "\n",
    "            if not isinstance(states, (list, tuple)):\n",
    "                raise TypeError(f\"States must be an iterable. Got {states} of type {type(states)}\")\n",
    "\n",
    "            encoder_full_seq = states[-1]\n",
    "\n",
    "            # <= batch_size, hidden_size\n",
    "            c_i = K.sum(encoder_full_seq * K.expand_dims(inputs, -1), axis=1)\n",
    "\n",
    "            logger.debug(f\"ci.shape = {c_i.shape}\")\n",
    "\n",
    "            return c_i, [c_i]\n",
    "\n",
    "        # we don't maintain states between steps when computing attention\n",
    "        # attention is stateless, so we're passing a fake state for RNN step function\n",
    "        fake_state_c = K.sum(encoder_out_seq, axis=1)\n",
    "        fake_state_e = K.sum(encoder_out_seq, axis=2)  # <= (batch_size, enc_seq_len, latent_dim\n",
    "\n",
    "        \"\"\" Computing energy outputs \"\"\"\n",
    "        # e_outputs => (batch_size, de_seq_len, en_seq_len)\n",
    "        last_out, e_outputs, _ = K.rnn(\n",
    "            energy_step, decoder_out_seq, [fake_state_e], constants=[encoder_out_seq]\n",
    "        )\n",
    "\n",
    "        \"\"\" Computing context vectors \"\"\"\n",
    "        last_out, c_outputs, _ = K.rnn(\n",
    "            context_step, e_outputs, [fake_state_c], constants=[encoder_out_seq]\n",
    "        )\n",
    "\n",
    "        return c_outputs, e_outputs\n",
    "\n",
    "    def compute_output_shape(self, input_shape):\n",
    "        \"\"\" Outputs produced by the layer \"\"\"\n",
    "        return [\n",
    "            tf.TensorShape((input_shape[1][0], input_shape[1][1], input_shape[1][2])),\n",
    "            tf.TensorShape((input_shape[1][0], input_shape[1][1], input_shape[0][1]))\n",
    "        ]"
   ]
  },
  {
   "cell_type": "code",
   "execution_count": 34,
   "id": "acff6c57",
   "metadata": {},
   "outputs": [
    {
     "name": "stdout",
     "output_type": "stream",
     "text": [
      "Model: \"model\"\n",
      "__________________________________________________________________________________________________\n",
      " Layer (type)                Output Shape                 Param #   Connected to                  \n",
      "==================================================================================================\n",
      " input_1 (InputLayer)        [(None, 80)]                 0         []                            \n",
      "                                                                                                  \n",
      " embedding (Embedding)       (None, 80, 100)              4975600   ['input_1[0][0]']             \n",
      "                                                                                                  \n",
      " lstm (LSTM)                 [(None, 80, 300),            481200    ['embedding[0][0]']           \n",
      "                              (None, 300),                                                        \n",
      "                              (None, 300)]                                                        \n",
      "                                                                                                  \n",
      " input_2 (InputLayer)        [(None, None)]               0         []                            \n",
      "                                                                                                  \n",
      " lstm_1 (LSTM)               [(None, 80, 300),            721200    ['lstm[0][0]']                \n",
      "                              (None, 300),                                                        \n",
      "                              (None, 300)]                                                        \n",
      "                                                                                                  \n",
      " embedding_1 (Embedding)     (None, None, 100)            873700    ['input_2[0][0]']             \n",
      "                                                                                                  \n",
      " lstm_2 (LSTM)               [(None, 80, 300),            721200    ['lstm_1[0][0]']              \n",
      "                              (None, 300),                                                        \n",
      "                              (None, 300)]                                                        \n",
      "                                                                                                  \n",
      " lstm_3 (LSTM)               [(None, None, 300),          481200    ['embedding_1[0][0]',         \n",
      "                              (None, 300),                           'lstm_2[0][1]',              \n",
      "                              (None, 300)]                           'lstm_2[0][2]']              \n",
      "                                                                                                  \n",
      " attention_layer (Attention  ((None, None, 300),          180300    ['lstm_2[0][0]',              \n",
      " Layer)                       (None, None, 80))                      'lstm_3[0][0]']              \n",
      "                                                                                                  \n",
      " concat_layer (Concatenate)  (None, None, 600)            0         ['lstm_3[0][0]',              \n",
      "                                                                     'attention_layer[0][0]']     \n",
      "                                                                                                  \n",
      " time_distributed (TimeDist  (None, None, 8737)           5250937   ['concat_layer[0][0]']        \n",
      " ributed)                                                                                         \n",
      "                                                                                                  \n",
      "==================================================================================================\n",
      "Total params: 13685337 (52.21 MB)\n",
      "Trainable params: 13685337 (52.21 MB)\n",
      "Non-trainable params: 0 (0.00 Byte)\n",
      "__________________________________________________________________________________________________\n"
     ]
    }
   ],
   "source": [
    "from keras import backend as K \n",
    "K.clear_session()\n",
    "\n",
    "latent_dim = 300\n",
    "embedding_dim=100\n",
    "\n",
    "# Encoder\n",
    "encoder_inputs = Input(shape=(max_article_len,))\n",
    "\n",
    "#embedding layer\n",
    "enc_emb =  Embedding(x_voc, embedding_dim,trainable=True)(encoder_inputs)\n",
    "\n",
    "#encoder lstm 1\n",
    "encoder_lstm1 = LSTM(latent_dim,return_sequences=True,return_state=True,dropout=0.4,recurrent_dropout=0.4)\n",
    "encoder_output1, state_h1, state_c1 = encoder_lstm1(enc_emb)\n",
    "\n",
    "#encoder lstm 2\n",
    "encoder_lstm2 = LSTM(latent_dim,return_sequences=True,return_state=True,dropout=0.4,recurrent_dropout=0.4)\n",
    "encoder_output2, state_h2, state_c2 = encoder_lstm2(encoder_output1)\n",
    "\n",
    "#encoder lstm 3\n",
    "encoder_lstm3=LSTM(latent_dim, return_state=True, return_sequences=True,dropout=0.4,recurrent_dropout=0.4)\n",
    "encoder_outputs, state_h, state_c= encoder_lstm3(encoder_output2)\n",
    "\n",
    "# Set up the decoder, using `encoder_states` as initial state.\n",
    "decoder_inputs = Input(shape=(None,))\n",
    "\n",
    "#embedding layer\n",
    "dec_emb_layer = Embedding(y_voc, embedding_dim,trainable=True)\n",
    "dec_emb = dec_emb_layer(decoder_inputs)\n",
    "\n",
    "decoder_lstm = LSTM(latent_dim, return_sequences=True, return_state=True,dropout=0.4,recurrent_dropout=0.2)\n",
    "decoder_outputs,decoder_fwd_state, decoder_back_state = decoder_lstm(dec_emb,initial_state=[state_h, state_c])\n",
    "\n",
    "# Attention layer\n",
    "attn_layer = AttentionLayer(name='attention_layer')\n",
    "attn_out, attn_states = attn_layer([encoder_outputs, decoder_outputs])\n",
    "\n",
    "# Concat attention input and decoder LSTM output\n",
    "decoder_concat_input = Concatenate(axis=-1, name='concat_layer')([decoder_outputs, attn_out])\n",
    "\n",
    "#dense layer\n",
    "decoder_dense =  TimeDistributed(Dense(y_voc, activation='softmax'))\n",
    "decoder_outputs = decoder_dense(decoder_concat_input)\n",
    "\n",
    "# Define the model \n",
    "model = Model([encoder_inputs, decoder_inputs], decoder_outputs)\n",
    "\n",
    "model.summary() "
   ]
  },
  {
   "cell_type": "code",
   "execution_count": 35,
   "id": "17cd97c6",
   "metadata": {},
   "outputs": [],
   "source": [
    "model.compile(optimizer='rmsprop', loss='sparse_categorical_crossentropy',metrics=['accuracy'])"
   ]
  },
  {
   "cell_type": "code",
   "execution_count": 36,
   "id": "00479500",
   "metadata": {},
   "outputs": [],
   "source": [
    "es = [EarlyStopping(monitor='val_loss', mode='min', verbose=1,patience=2), \n",
    "      ModelCheckpoint('./MyModel_tf',monitor='val_accuracy', verbose=1,\n",
    "                      save_best_only=True, mode='min', save_weights_only = False)]"
   ]
  },
  {
   "cell_type": "code",
   "execution_count": null,
   "id": "b27a341c",
   "metadata": {},
   "outputs": [
    {
     "name": "stdout",
     "output_type": "stream",
     "text": [
      "Epoch 1/5\n",
      "171/171 [==============================] - ETA: 0s - loss: 6.6551 - accuracy: 0.1406 \n",
      "Epoch 1: val_accuracy improved from inf to 0.14879, saving model to .\\MyModel_tf\n",
      "INFO:tensorflow:Assets written to: .\\MyModel_tf\\assets\n"
     ]
    },
    {
     "name": "stderr",
     "output_type": "stream",
     "text": [
      "INFO:tensorflow:Assets written to: .\\MyModel_tf\\assets\n"
     ]
    },
    {
     "name": "stdout",
     "output_type": "stream",
     "text": [
      "171/171 [==============================] - 2018s 12s/step - loss: 6.6551 - accuracy: 0.1406 - val_loss: 6.3737 - val_accuracy: 0.1488\n",
      "Epoch 2/5\n",
      "171/171 [==============================] - ETA: 0s - loss: 6.3247 - accuracy: 0.1502 \n",
      "Epoch 2: val_accuracy improved from 0.14879 to 0.13971, saving model to .\\MyModel_tf\n",
      "INFO:tensorflow:Assets written to: .\\MyModel_tf\\assets\n"
     ]
    },
    {
     "name": "stderr",
     "output_type": "stream",
     "text": [
      "INFO:tensorflow:Assets written to: .\\MyModel_tf\\assets\n"
     ]
    },
    {
     "name": "stdout",
     "output_type": "stream",
     "text": [
      "171/171 [==============================] - 3870s 23s/step - loss: 6.3247 - accuracy: 0.1502 - val_loss: 6.2847 - val_accuracy: 0.1397\n",
      "Epoch 3/5\n",
      "171/171 [==============================] - ETA: 0s - loss: 6.2602 - accuracy: 0.1503 \n",
      "Epoch 3: val_accuracy did not improve from 0.13971\n",
      "171/171 [==============================] - 4076s 24s/step - loss: 6.2602 - accuracy: 0.1503 - val_loss: 6.2446 - val_accuracy: 0.1530\n",
      "Epoch 4/5\n",
      "171/171 [==============================] - ETA: 0s - loss: 6.2304 - accuracy: 0.1502 \n",
      "Epoch 4: val_accuracy did not improve from 0.13971\n",
      "171/171 [==============================] - 6218s 36s/step - loss: 6.2304 - accuracy: 0.1502 - val_loss: 6.2401 - val_accuracy: 0.1530\n",
      "Epoch 5/5\n",
      " 38/171 [=====>........................] - ETA: 45:30 - loss: 6.1843 - accuracy: 0.1504"
     ]
    }
   ],
   "source": [
    "history = model.fit([x_tr,y_tr[:,:-1]], y_tr.reshape(y_tr.shape[0],y_tr.shape[1], 1)[:,1:] ,epochs=5,callbacks=[es],batch_size= 64, validation_data=([x_val,y_val[:,:-1]], y_val.reshape(y_val.shape[0],y_val.shape[1], 1)[:,1:]))\n",
    "#history = model.fit([x_tr,y_tr[:,:-1]], y_tr.reshape(y_tr.shape[0],y_tr.shape[1], 1)[:,1:] ,epochs=10,callbacks=[es],batch_size=512, validation_data=([x_val,y_val[:,:-1]], y_val.reshape(y_val.shape[0],y_val.shape[1], 1)[:,1:]))"
   ]
  },
  {
   "cell_type": "code",
   "execution_count": null,
   "id": "0df48912",
   "metadata": {},
   "outputs": [],
   "source": [
    "# serialize model to JSON\n",
    "model_json = model.to_json()\n",
    "with open(\"summary.json\", \"w\") as json_file:\n",
    "    json_file.write(model_json)\n",
    "# serialize weights to HDF5\n",
    "model.save_weights(\"summary.h5\")\n",
    "print(\"Saved model to disk\")"
   ]
  },
  {
   "cell_type": "code",
   "execution_count": null,
   "id": "4103bde1",
   "metadata": {},
   "outputs": [],
   "source": [
    "from matplotlib import pyplot\n",
    "pyplot.plot(history.history['accuracy'], label='train')\n",
    "pyplot.plot(history.history['val_accuracy'], label='test')\n",
    "pyplot.legend()\n",
    "pyplot.title(\"accuracy chart\")\n",
    "pyplot.show()"
   ]
  },
  {
   "cell_type": "code",
   "execution_count": null,
   "id": "f53311c9",
   "metadata": {},
   "outputs": [],
   "source": [
    "reverse_target_word_index=y_tokenizer.index_word\n",
    "reverse_source_word_index=x_tokenizer.index_word\n",
    "target_word_index=y_tokenizer.word_index"
   ]
  },
  {
   "cell_type": "code",
   "execution_count": null,
   "id": "41e0a82e",
   "metadata": {},
   "outputs": [],
   "source": [
    "# Encode the input sequence to get the feature vector\n",
    "encoder_model = Model(inputs=encoder_inputs,outputs=[encoder_outputs, state_h, state_c])\n",
    "\n",
    "# Decoder setup\n",
    "# Below tensors will hold the states of the previous time step\n",
    "decoder_state_input_h = Input(shape=(latent_dim,))\n",
    "decoder_state_input_c = Input(shape=(latent_dim,))\n",
    "decoder_hidden_state_input = Input(shape=(max_article_len,latent_dim))\n",
    "\n",
    "# Get the embeddings of the decoder sequence\n",
    "dec_emb2= dec_emb_layer(decoder_inputs) \n",
    "# To predict the next word in the sequence, set the initial states to the states from the previous time step\n",
    "decoder_outputs2, state_h2, state_c2 = decoder_lstm(dec_emb2, initial_state=[decoder_state_input_h, decoder_state_input_c])\n",
    "\n",
    "#attention inference\n",
    "attn_out_inf, attn_states_inf = attn_layer([decoder_hidden_state_input, decoder_outputs2])\n",
    "decoder_inf_concat = Concatenate(axis=-1, name='concat')([decoder_outputs2, attn_out_inf])\n",
    "\n",
    "# A dense softmax layer to generate prob dist. over the target vocabulary\n",
    "decoder_outputs2 = decoder_dense(decoder_inf_concat) \n",
    "\n",
    "# Final decoder model\n",
    "decoder_model = Model(\n",
    "    [decoder_inputs] + [decoder_hidden_state_input,decoder_state_input_h, decoder_state_input_c],\n",
    "    [decoder_outputs2] + [state_h2, state_c2])"
   ]
  },
  {
   "cell_type": "code",
   "execution_count": null,
   "id": "5a18e1e9",
   "metadata": {},
   "outputs": [],
   "source": [
    "def decode_sequence(input_seq):\n",
    "    # Encode the input as state vectors.\n",
    "    e_out, e_h, e_c = encoder_model.predict(input_seq)\n",
    "    \n",
    "    # Generate empty target sequence of length 1.\n",
    "    target_seq = np.zeros((1,1))\n",
    "    \n",
    "    # Populate the first word of target sequence with the start word.\n",
    "    target_seq[0, 0] = target_word_index['sostok']\n",
    "\n",
    "    stop_condition = False\n",
    "    decoded_sentence = ''\n",
    "    while not stop_condition:\n",
    "      \n",
    "        output_tokens, h, c = decoder_model.predict([target_seq] + [e_out, e_h, e_c])\n",
    "\n",
    "        # Sample a token\n",
    "        sampled_token_index = np.argmax(output_tokens[0, -1, :])\n",
    "        sampled_token = reverse_target_word_index[sampled_token_index]\n",
    "        \n",
    "        if(sampled_token!='eostok'):\n",
    "            decoded_sentence += ' '+sampled_token\n",
    "\n",
    "        # Exit condition: either hit max length or find stop word.\n",
    "        if (sampled_token == 'eostok'  or len(decoded_sentence.split()) >= (max_highlights_len-1)):\n",
    "            stop_condition = True\n",
    "\n",
    "        # Update the target sequence (of length 1).\n",
    "        target_seq = np.zeros((1,1))\n",
    "        target_seq[0, 0] = sampled_token_index\n",
    "\n",
    "        # Update internal states\n",
    "        e_h, e_c = h, c\n",
    "\n",
    "    return decoded_sentence"
   ]
  },
  {
   "cell_type": "code",
   "execution_count": null,
   "id": "e4395bad",
   "metadata": {},
   "outputs": [],
   "source": [
    "def seq2summary(input_seq):\n",
    "    newString=''\n",
    "    for i in input_seq:\n",
    "        if((i!=0 and i!=target_word_index['sostok']) and i!=target_word_index['eostok']):\n",
    "            newString=newString+reverse_target_word_index[i]+' '\n",
    "    return newString\n",
    "\n",
    "def seq2text(input_seq):\n",
    "    newString=''\n",
    "    for i in input_seq:\n",
    "        if(i!=0):\n",
    "            newString=newString+reverse_source_word_index[i]+' '\n",
    "    return newString"
   ]
  },
  {
   "cell_type": "code",
   "execution_count": null,
   "id": "60ce764d",
   "metadata": {},
   "outputs": [],
   "source": [
    "for i in range(0,100):\n",
    "    print(\"Review:\",seq2text(x_tr[i]))\n",
    "    print(\"Original summary:\",seq2summary(y_tr[i]))\n",
    "    print(\"Predicted summary:\",decode_sequence(x_tr[i].reshape(1,max_article_len)))\n",
    "    print(\"\\n\")"
   ]
  },
  {
   "cell_type": "code",
   "execution_count": null,
   "id": "47d8e70c",
   "metadata": {},
   "outputs": [],
   "source": []
  },
  {
   "cell_type": "code",
   "execution_count": null,
   "id": "c55d387f",
   "metadata": {},
   "outputs": [],
   "source": []
  }
 ],
 "metadata": {
  "kernelspec": {
   "display_name": "Python 3 (ipykernel)",
   "language": "python",
   "name": "python3"
  },
  "language_info": {
   "codemirror_mode": {
    "name": "ipython",
    "version": 3
   },
   "file_extension": ".py",
   "mimetype": "text/x-python",
   "name": "python",
   "nbconvert_exporter": "python",
   "pygments_lexer": "ipython3",
   "version": "3.10.9"
  }
 },
 "nbformat": 4,
 "nbformat_minor": 5
}
